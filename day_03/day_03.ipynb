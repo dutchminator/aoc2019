{
 "cells": [
  {
   "cell_type": "code",
   "execution_count": 1,
   "metadata": {},
   "outputs": [
    {
     "name": "stdout",
     "output_type": "stream",
     "text": [
      "\u001b[32m\u001b[1m    Status\u001b[22m\u001b[39m `~/repos/aoc2019/Project.toml`\n",
      " \u001b[90m [336ed68f]\u001b[39m\u001b[37m CSV v0.5.18\u001b[39m\n",
      " \u001b[90m [a93c6f00]\u001b[39m\u001b[37m DataFrames v0.19.4\u001b[39m\n",
      " \u001b[90m [864edb3b]\u001b[39m\u001b[37m DataStructures v0.17.6\u001b[39m\n"
     ]
    }
   ],
   "source": [
    "] status"
   ]
  },
  {
   "cell_type": "markdown",
   "metadata": {},
   "source": [
    "# A"
   ]
  },
  {
   "cell_type": "code",
   "execution_count": 2,
   "metadata": {
    "scrolled": true
   },
   "outputs": [
    {
     "data": {
      "text/plain": [
       "2-element Array{Array{SubString{String},1},1}:\n",
       " [\"R1009\", \"U993\", \"L383\", \"D725\", \"R163\", \"D312\", \"R339\", \"U650\", \"R558\", \"U384\"  …  \"U176\", \"R509\", \"U46\", \"R935\", \"U576\", \"R96\", \"U89\", \"L913\", \"U703\", \"R833\"] \n",
       " [\"L1006\", \"D998\", \"R94\", \"D841\", \"R911\", \"D381\", \"R532\", \"U836\", \"L299\", \"U237\"  …  \"D667\", \"R93\", \"U749\", \"L315\", \"D410\", \"R312\", \"U929\", \"L923\", \"U260\", \"R638\"]"
      ]
     },
     "execution_count": 2,
     "metadata": {},
     "output_type": "execute_result"
    }
   ],
   "source": [
    "function parse_input(str)\n",
    "    return split.(split(rstrip(str), '\\n'), \",\")\n",
    "end\n",
    "\n",
    "function get_input()\n",
    "    open(\"input.txt\") do f\n",
    "        # read as string, rstrip, split on newline, broadcast-strip on ,\n",
    "        return parse_input(read(f, String))\n",
    "    end\n",
    "end\n",
    "\n",
    "get_input()"
   ]
  },
  {
   "cell_type": "code",
   "execution_count": 3,
   "metadata": {},
   "outputs": [
    {
     "data": {
      "text/plain": [
       "process_wire (generic function with 1 method)"
      ]
     },
     "execution_count": 3,
     "metadata": {},
     "output_type": "execute_result"
    }
   ],
   "source": [
    "function process_wire(wire)\n",
    "    path = Set()\n",
    "    timings = Dict{Array, Int64}()\n",
    "    time = 0\n",
    "    \n",
    "    # Initial position is 0 horizontal, 0 vertical, 0 steps if puzzle is 'b'\n",
    "    pos = [0, 0]\n",
    "    \n",
    "    # todo: introduce dict for direction - transformation pairs\n",
    "    \n",
    "    # wire is a string of directions R, U, L, D and distance traveled\n",
    "    for instruction in wire\n",
    "        direction = instruction[1]\n",
    "        steps = parse(Int, instruction[2:lastindex(instruction)])\n",
    "        \n",
    "        # Collect positions on the wire's path\n",
    "        if direction == 'R'\n",
    "            for i in 1:steps\n",
    "                pos[1] += 1\n",
    "                push!(path, copy(pos))\n",
    "                \n",
    "                time += 1\n",
    "                if !haskey(timings, pos)\n",
    "                    timings[copy(pos)] = time\n",
    "                end\n",
    "            end\n",
    "        elseif direction == 'U'\n",
    "            for i in 1:steps\n",
    "                pos[2] += 1\n",
    "                push!(path, copy(pos))\n",
    "                \n",
    "                time += 1\n",
    "                if !haskey(timings, pos)\n",
    "                    timings[copy(pos)] = time\n",
    "                end\n",
    "            end\n",
    "        elseif direction == 'L'\n",
    "            for i in 1:steps\n",
    "                pos[1] -= 1\n",
    "                push!(path, copy(pos))\n",
    "                \n",
    "                time += 1\n",
    "                if !haskey(timings, pos)\n",
    "                    timings[copy(pos)] = time\n",
    "                end\n",
    "            end\n",
    "        elseif direction == 'D'\n",
    "            for i in 1:steps\n",
    "                pos[2] -= 1\n",
    "                push!(path, copy(pos))\n",
    "                \n",
    "                time += 1\n",
    "                if !haskey(timings, pos)\n",
    "                    timings[copy(pos)] = time\n",
    "                end\n",
    "            end\n",
    "        end\n",
    "        \n",
    "    end\n",
    "    \n",
    "    # Return the set of path positions and timing\n",
    "    return (path, timings)\n",
    "end"
   ]
  },
  {
   "cell_type": "code",
   "execution_count": 4,
   "metadata": {},
   "outputs": [
    {
     "data": {
      "text/plain": [
       "solve_a (generic function with 1 method)"
      ]
     },
     "execution_count": 4,
     "metadata": {},
     "output_type": "execute_result"
    }
   ],
   "source": [
    "function solve_a(input)\n",
    "    # Dictionary that holds the wire positions\n",
    "    wire_paths = Dict{Int, Set}()\n",
    "    \n",
    "    for (index, wire) in enumerate(input)\n",
    "        # Get the paths\n",
    "        wire_paths[index] = process_wire(wire)[1]\n",
    "    end\n",
    "    \n",
    "    # TODO: Get values from dict, set intersection, determine distance (= sum of x and y coordinate)\n",
    "    crossings = intersect(wire_paths[1], wire_paths[2])\n",
    "    # Determine shortest distance from origin\n",
    "    dist(x) = abs(x[1]) + abs(x[2])\n",
    "    crossing_distances = dist.(crossings)\n",
    "    return minimum(crossing_distances)\n",
    "    \n",
    "end"
   ]
  },
  {
   "cell_type": "markdown",
   "metadata": {},
   "source": [
    "## Tests"
   ]
  },
  {
   "cell_type": "code",
   "execution_count": 5,
   "metadata": {},
   "outputs": [],
   "source": [
    "test_a_1 = string(\"R75,D30,R83,U83,L12,D49,R71,U7,L72\", '\\n', \"U62,R66,U55,R34,D71,R55,D58,R83\")\n",
    "@assert solve_a(parse_input(test_a_1)) == 159 \"Error testcase A1\"\n",
    "\n",
    "test_a_2 = string(\"R98,U47,R26,D63,R33,U87,L62,D20,R33,U53,R51\", '\\n', \"U98,R91,D20,R16,D67,R40,U7,R15,U6,R7\")\n",
    "@assert solve_a(parse_input(test_a_2)) == 135 \"Error testcase A2\""
   ]
  },
  {
   "cell_type": "markdown",
   "metadata": {},
   "source": [
    "## Solve"
   ]
  },
  {
   "cell_type": "code",
   "execution_count": 6,
   "metadata": {
    "scrolled": true
   },
   "outputs": [
    {
     "data": {
      "text/plain": [
       "273"
      ]
     },
     "execution_count": 6,
     "metadata": {},
     "output_type": "execute_result"
    }
   ],
   "source": [
    "solve_a(get_input())"
   ]
  },
  {
   "cell_type": "markdown",
   "metadata": {},
   "source": [
    "# B"
   ]
  },
  {
   "cell_type": "code",
   "execution_count": 7,
   "metadata": {},
   "outputs": [
    {
     "data": {
      "text/plain": [
       "solve_b (generic function with 1 method)"
      ]
     },
     "execution_count": 7,
     "metadata": {},
     "output_type": "execute_result"
    }
   ],
   "source": [
    "function solve_b(input)\n",
    "    # Dictionary that holds the wire positions and timings per wire\n",
    "    wire_paths = Dict{Int, Set}()\n",
    "    wire_timings = Dict{Int, Dict{Array, Int}}()\n",
    "    \n",
    "    for (index, wire) in enumerate(input)\n",
    "        wire_result = process_wire(wire)\n",
    "        wire_paths[index] = wire_result[1]\n",
    "        wire_timings[index] = wire_result[2]\n",
    "    end\n",
    "    \n",
    "    crossings = intersect(wire_paths[1], wire_paths[2])\n",
    "    # Determine shortest timing from origin\n",
    "    timing(x) = wire_timings[1][x] + wire_timings[2][x]\n",
    "    \n",
    "    # Broadcast timing over crossings\n",
    "    crossing_timing = timing.(crossings)\n",
    "    # Get the answer\n",
    "    return minimum(crossing_timing)\n",
    "end"
   ]
  },
  {
   "cell_type": "markdown",
   "metadata": {},
   "source": [
    "## Test"
   ]
  },
  {
   "cell_type": "code",
   "execution_count": 8,
   "metadata": {},
   "outputs": [],
   "source": [
    "test_b_1 = string(\"R75,D30,R83,U83,L12,D49,R71,U7,L72\", '\\n', \"U62,R66,U55,R34,D71,R55,D58,R83\")\n",
    "@assert solve_b(parse_input(test_b_1)) == 610 \"Error testcase B1\"\n",
    "\n",
    "test_b_2 = string(\"R98,U47,R26,D63,R33,U87,L62,D20,R33,U53,R51\", '\\n', \"U98,R91,D20,R16,D67,R40,U7,R15,U6,R7\")\n",
    "@assert solve_b(parse_input(test_b_2)) == 410 \"Error testcase B2\""
   ]
  },
  {
   "cell_type": "code",
   "execution_count": 9,
   "metadata": {},
   "outputs": [
    {
     "data": {
      "text/plain": [
       "15622"
      ]
     },
     "execution_count": 9,
     "metadata": {},
     "output_type": "execute_result"
    }
   ],
   "source": [
    "solve_b(get_input())"
   ]
  },
  {
   "cell_type": "code",
   "execution_count": null,
   "metadata": {},
   "outputs": [],
   "source": []
  }
 ],
 "metadata": {
  "kernelspec": {
   "display_name": "Julia 1.3.0",
   "language": "julia",
   "name": "julia-1.3"
  },
  "language_info": {
   "file_extension": ".jl",
   "mimetype": "application/julia",
   "name": "julia",
   "version": "1.3.0"
  }
 },
 "nbformat": 4,
 "nbformat_minor": 2
}
