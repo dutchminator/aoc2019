{
 "cells": [
  {
   "cell_type": "code",
   "execution_count": 1,
   "metadata": {},
   "outputs": [
    {
     "name": "stdout",
     "output_type": "stream",
     "text": [
      "\u001b[32m\u001b[1m    Status\u001b[22m\u001b[39m `~/repos/aoc2019/Project.toml`\n",
      " \u001b[90m [336ed68f]\u001b[39m\u001b[37m CSV v0.5.18\u001b[39m\n",
      " \u001b[90m [a93c6f00]\u001b[39m\u001b[37m DataFrames v0.19.4\u001b[39m\n",
      " \u001b[90m [864edb3b]\u001b[39m\u001b[37m DataStructures v0.17.6\u001b[39m\n"
     ]
    }
   ],
   "source": [
    "] status"
   ]
  },
  {
   "cell_type": "markdown",
   "metadata": {},
   "source": [
    "# A"
   ]
  },
  {
   "cell_type": "code",
   "execution_count": 2,
   "metadata": {
    "scrolled": true
   },
   "outputs": [
    {
     "data": {
      "text/plain": [
       "2-element Array{Int64,1}:\n",
       " 271973\n",
       " 785961"
      ]
     },
     "execution_count": 2,
     "metadata": {},
     "output_type": "execute_result"
    }
   ],
   "source": [
    "function parse_input(str)\n",
    "    # read as string, rstrip, split on -, parse string as Int\n",
    "    return parse.(Int, split(rstrip(str), '-'))\n",
    "end\n",
    "\n",
    "function get_input()\n",
    "    open(\"input.txt\") do f\n",
    "        return parse_input(read(f, String))\n",
    "    end\n",
    "end\n",
    "\n",
    "get_input()"
   ]
  },
  {
   "cell_type": "code",
   "execution_count": 3,
   "metadata": {},
   "outputs": [
    {
     "name": "stdout",
     "output_type": "stream",
     "text": [
      "1\n",
      "2\n",
      "3\n",
      "4\n",
      "5\n",
      "6\n"
     ]
    }
   ],
   "source": [
    "value = 123456\n",
    "for x in string(value)\n",
    "    println(x)\n",
    "end"
   ]
  },
  {
   "cell_type": "code",
   "execution_count": 4,
   "metadata": {},
   "outputs": [],
   "source": [
    "function contains_adjacent(x)\n",
    "    nums = split(string(x), \"\")\n",
    "    for i in 1:length(nums)-1\n",
    "        if nums[i] == nums[i+1]\n",
    "            return true\n",
    "        end\n",
    "    end\n",
    "    return false        \n",
    "end\n",
    "\n",
    "function never_decreasing(x)\n",
    "    nums = split(string(x), \"\")\n",
    "    for i in 1:length(nums)-1\n",
    "        if nums[i] > nums[i+1]\n",
    "            return false\n",
    "        end\n",
    "    end\n",
    "    return true\n",
    "end\n",
    "\n",
    "function evaluate_number(x)\n",
    "    contains_adjacent(x) && never_decreasing(x) && return true\n",
    "    return false\n",
    "end\n",
    "    \n",
    "@assert evaluate_number(223450) == false \"Fails on decreasing check\"\n",
    "@assert evaluate_number(123789) == false \"Fails on adjacency check\"\n",
    "@assert evaluate_number(111111) == true \"False negative failure\""
   ]
  },
  {
   "cell_type": "code",
   "execution_count": 5,
   "metadata": {},
   "outputs": [
    {
     "data": {
      "text/plain": [
       "solve_a (generic function with 1 method)"
      ]
     },
     "execution_count": 5,
     "metadata": {},
     "output_type": "execute_result"
    }
   ],
   "source": [
    "function solve_a(input)\n",
    "    return sum(evaluate_number.(input[1]:input[2]))\n",
    "end"
   ]
  },
  {
   "cell_type": "markdown",
   "metadata": {},
   "source": [
    "## Solve"
   ]
  },
  {
   "cell_type": "code",
   "execution_count": 6,
   "metadata": {
    "scrolled": true
   },
   "outputs": [
    {
     "data": {
      "text/plain": [
       "925"
      ]
     },
     "execution_count": 6,
     "metadata": {},
     "output_type": "execute_result"
    }
   ],
   "source": [
    "solve_a(get_input())"
   ]
  },
  {
   "cell_type": "markdown",
   "metadata": {},
   "source": [
    "# B"
   ]
  },
  {
   "cell_type": "code",
   "execution_count": 7,
   "metadata": {},
   "outputs": [],
   "source": [
    "function contains_adjacent_b(x)\n",
    "    nums = split(string(x), \"\")\n",
    "    for i in 1:length(nums)-1\n",
    "        if nums[i] == nums[i+1]\n",
    "            if (i > 1) & (i <= length(nums)-2)\n",
    "                nums[i] != nums[i-1] && nums[i] != nums[i+2] && return true\n",
    "            elseif i > 1\n",
    "                nums[i] != nums[i-1] && return true\n",
    "            else\n",
    "                nums[i] != nums[i+2] && return true\n",
    "            end\n",
    "        end\n",
    "    end\n",
    "    return false\n",
    "end\n",
    "\n",
    "function evaluate_number_b(x)\n",
    "    contains_adjacent_b(x) && never_decreasing(x) && return true\n",
    "    return false\n",
    "end\n",
    "    \n",
    "@assert evaluate_number_b(223450) == false \"Fails on decreasing check\"\n",
    "@assert evaluate_number_b(123789) == false \"Fails on detecting no adjacency\"\n",
    "@assert evaluate_number_b(123345) == true \"Fails on detecting adjacency\"\n",
    "@assert evaluate_number_b(123455) == true \"Fails on detecting adjacency last 2\"\n",
    "@assert evaluate_number_b(112333) == true \"Adjacent 1's should pass the test\"\n",
    "@assert evaluate_number_b(111122) == true \"Adjacent 2's should pass the test\""
   ]
  },
  {
   "cell_type": "code",
   "execution_count": 8,
   "metadata": {},
   "outputs": [
    {
     "data": {
      "text/plain": [
       "solve_b (generic function with 1 method)"
      ]
     },
     "execution_count": 8,
     "metadata": {},
     "output_type": "execute_result"
    }
   ],
   "source": [
    "function solve_b(input)\n",
    "    return sum(evaluate_number_b.(input[1]:input[2]))\n",
    "end"
   ]
  },
  {
   "cell_type": "markdown",
   "metadata": {},
   "source": [
    "## Test"
   ]
  },
  {
   "cell_type": "code",
   "execution_count": 9,
   "metadata": {},
   "outputs": [
    {
     "data": {
      "text/plain": [
       "607"
      ]
     },
     "execution_count": 9,
     "metadata": {},
     "output_type": "execute_result"
    }
   ],
   "source": [
    "solve_b(get_input())"
   ]
  }
 ],
 "metadata": {
  "kernelspec": {
   "display_name": "Julia 1.3.0",
   "language": "julia",
   "name": "julia-1.3"
  },
  "language_info": {
   "file_extension": ".jl",
   "mimetype": "application/julia",
   "name": "julia",
   "version": "1.3.0"
  }
 },
 "nbformat": 4,
 "nbformat_minor": 2
}
