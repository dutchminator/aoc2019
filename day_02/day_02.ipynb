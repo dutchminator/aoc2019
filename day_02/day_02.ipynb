{
 "cells": [
  {
   "cell_type": "code",
   "execution_count": 1,
   "metadata": {},
   "outputs": [
    {
     "name": "stdout",
     "output_type": "stream",
     "text": [
      "\u001b[32m\u001b[1m    Status\u001b[22m\u001b[39m `~/repos/aoc2019/Project.toml`\n",
      " \u001b[90m [336ed68f]\u001b[39m\u001b[37m CSV v0.5.18\u001b[39m\n",
      " \u001b[90m [a93c6f00]\u001b[39m\u001b[37m DataFrames v0.19.4\u001b[39m\n"
     ]
    }
   ],
   "source": [
    "] status"
   ]
  },
  {
   "cell_type": "markdown",
   "metadata": {},
   "source": [
    "Note: This is tricky, as the exercise assumed positions on a 0-indexed list, while Julia is 1-indexed.  \n",
    "Terminology: position is the exercise's index. Code index is based on Julia's 1-index."
   ]
  },
  {
   "cell_type": "markdown",
   "metadata": {},
   "source": [
    "# A"
   ]
  },
  {
   "cell_type": "code",
   "execution_count": 112,
   "metadata": {
    "scrolled": true
   },
   "outputs": [
    {
     "data": {
      "text/plain": [
       "5-element Array{Int64,1}:\n",
       "  1\n",
       " 12\n",
       "  2\n",
       "  3\n",
       "  1"
      ]
     },
     "execution_count": 112,
     "metadata": {},
     "output_type": "execute_result"
    }
   ],
   "source": [
    "function get_input(input1, input2)\n",
    "    open(\"input.txt\") do f\n",
    "        content = read(f, String)\n",
    "        # dot-broadcasting for vectorized operations on arrays, as explained in\n",
    "        # https://docs.julialang.org/en/v1/manual/arrays/index.html#Array-and-Vectorized-Operators-and-Functions-1\n",
    "        intcode = parse.(Int, split(content, \",\"))\n",
    "        \n",
    "        # Restore the gravity assist program \n",
    "        # Replace position 1 (so index == 2) with input parameter 1\n",
    "        intcode[2] = input1\n",
    "        # Replace position 2 (ix 3) with input parameter 2\n",
    "        intcode[3] = input2\n",
    "        return intcode\n",
    "    end\n",
    "end\n",
    "\n",
    "get_input(12, 2)[1:5]"
   ]
  },
  {
   "cell_type": "code",
   "execution_count": 125,
   "metadata": {},
   "outputs": [
    {
     "data": {
      "text/plain": [
       "process_opcode (generic function with 1 method)"
      ]
     },
     "execution_count": 125,
     "metadata": {},
     "output_type": "execute_result"
    }
   ],
   "source": [
    "function process_opcode(intcode, pointer)\n",
    "    \n",
    "    # Get the relevant values\n",
    "    ix_to_update = intcode[pointer + 4] + 1\n",
    "    pos_1 = intcode[pointer + 2]\n",
    "    val_1 = intcode[pos_1 + 1]\n",
    "    pos_2 = intcode[pointer + 3]\n",
    "    val_2 = intcode[pos_2 + 1]\n",
    "    \n",
    "    # Perform opcode modifications\n",
    "    opcode = intcode[pointer + 1]\n",
    "    \n",
    "    if opcode == 1\n",
    "        intcode[ix_to_update] = val_1 + val_2\n",
    "    elseif opcode == 2\n",
    "        intcode[ix_to_update] = val_1 * val_2\n",
    "    end\n",
    "    \n",
    "    # return new intcode\n",
    "    return intcode\n",
    "end"
   ]
  },
  {
   "cell_type": "code",
   "execution_count": 126,
   "metadata": {},
   "outputs": [
    {
     "data": {
      "text/plain": [
       "solve_a (generic function with 2 methods)"
      ]
     },
     "execution_count": 126,
     "metadata": {},
     "output_type": "execute_result"
    }
   ],
   "source": [
    "function solve_a(input1, input2)\n",
    "    # Initialize with the input parameters given\n",
    "    intcode = get_input(input1, input2)\n",
    "    \n",
    "    # Iterate over the instructions\n",
    "    for pointer in 0:4:(lastindex(intcode)-1)\n",
    "        # Break from loop if opcode is 99, else process\n",
    "        if intcode[pointer+1] == 99\n",
    "            break\n",
    "        else\n",
    "            intcode = process_opcode(intcode, pointer)\n",
    "        end\n",
    "    end\n",
    "    return intcode[1]\n",
    "end"
   ]
  },
  {
   "cell_type": "code",
   "execution_count": 127,
   "metadata": {
    "scrolled": true
   },
   "outputs": [
    {
     "data": {
      "text/plain": [
       "8017076"
      ]
     },
     "execution_count": 127,
     "metadata": {},
     "output_type": "execute_result"
    }
   ],
   "source": [
    "solve_a(12, 2)"
   ]
  },
  {
   "cell_type": "markdown",
   "metadata": {},
   "source": [
    "# B"
   ]
  },
  {
   "cell_type": "code",
   "execution_count": 128,
   "metadata": {},
   "outputs": [
    {
     "data": {
      "text/plain": [
       "solve_b (generic function with 1 method)"
      ]
     },
     "execution_count": 128,
     "metadata": {},
     "output_type": "execute_result"
    }
   ],
   "source": [
    "function solve_b()\n",
    "   # Iterate over solutions for part A of the puzzle until a match happens\n",
    "    for i in 0:1:99\n",
    "        for j in 0:1:99\n",
    "            if solve_a(i, j) == 19690720\n",
    "                return i*100 + j\n",
    "            end\n",
    "        end\n",
    "    end\n",
    "end"
   ]
  },
  {
   "cell_type": "code",
   "execution_count": 129,
   "metadata": {},
   "outputs": [
    {
     "data": {
      "text/plain": [
       "3146"
      ]
     },
     "execution_count": 129,
     "metadata": {},
     "output_type": "execute_result"
    }
   ],
   "source": [
    "solve_b()"
   ]
  },
  {
   "cell_type": "code",
   "execution_count": null,
   "metadata": {},
   "outputs": [],
   "source": []
  }
 ],
 "metadata": {
  "kernelspec": {
   "display_name": "Julia 1.3.0",
   "language": "julia",
   "name": "julia-1.3"
  },
  "language_info": {
   "file_extension": ".jl",
   "mimetype": "application/julia",
   "name": "julia",
   "version": "1.3.0"
  }
 },
 "nbformat": 4,
 "nbformat_minor": 2
}
